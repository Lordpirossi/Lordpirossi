{
  "nbformat": 4,
  "nbformat_minor": 0,
  "metadata": {
    "colab": {
      "provenance": [],
      "authorship_tag": "ABX9TyM1fgSPYv1dQQWDlbz0NacR",
      "include_colab_link": true
    },
    "kernelspec": {
      "name": "python3",
      "display_name": "Python 3"
    },
    "language_info": {
      "name": "python"
    }
  },
  "cells": [
    {
      "cell_type": "markdown",
      "metadata": {
        "id": "view-in-github",
        "colab_type": "text"
      },
      "source": [
        "<a href=\"https://colab.research.google.com/github/Lordpirossi/Lordpirossi/blob/main/C%C3%B3digos_interessantes.ipynb\" target=\"_parent\"><img src=\"https://colab.research.google.com/assets/colab-badge.svg\" alt=\"Open In Colab\"/></a>"
      ]
    },
    {
      "cell_type": "code",
      "source": [
        "#Lendo um dado informado para o usuario usando json\n",
        "import json\n",
        "filename = \"user.json\"\n",
        "try:\n",
        "  with open(filename) as file_object:\n",
        "    usuario = json.load(file_object)\n",
        "except: \n",
        "  name = input(\"What is your name?: \")\n",
        "  with open(filename, \"w\") as file_object:\n",
        "    json.dump(name, file_object)\n",
        "    print(\"We'll remember you when you come back, \" + name + \" !\")\n",
        "else:\n",
        "  print(\"Welcome back, \" + name + \" !\")"
      ],
      "metadata": {
        "id": "nBq8JCpXpXjv",
        "colab": {
          "base_uri": "https://localhost:8080/"
        },
        "outputId": "99f521f2-022c-42a9-d9ed-45a48821aa8d"
      },
      "execution_count": null,
      "outputs": [
        {
          "output_type": "stream",
          "name": "stdout",
          "text": [
            "Welcome back, Luiz Guilherme !\n"
          ]
        }
      ]
    },
    {
      "cell_type": "code",
      "source": [
        "#Lendo o nome do usuario\n",
        "import json\n",
        "filename = \"username.json\"\n",
        "with open(filename) as file_object:\n",
        "  name = json.load(file_object)\n",
        "  print(name)"
      ],
      "metadata": {
        "colab": {
          "base_uri": "https://localhost:8080/"
        },
        "id": "FxMOI90C03f-",
        "outputId": "a1a205b5-d59b-41f4-f6c4-68bfe62fb637"
      },
      "execution_count": null,
      "outputs": [
        {
          "output_type": "stream",
          "name": "stdout",
          "text": [
            "Luiz Guilherme\n"
          ]
        }
      ]
    },
    {
      "cell_type": "code",
      "source": [
        "#Gravando usuarios em um Jso\n",
        "import json\n",
        "username = input(\"Whar is your name: \")\n",
        "filename = \"username.json\"\n",
        "with open(filename, \"w\") as file_object:\n",
        "  json.dump(username, file_object)\n",
        "  print(\"We'll remember you when you come back, \" + username + \"!\")"
      ],
      "metadata": {
        "colab": {
          "base_uri": "https://localhost:8080/"
        },
        "id": "OXXLmyz8sBxH",
        "outputId": "a53beb75-156f-4dd5-86db-09b4a98f6847"
      },
      "execution_count": null,
      "outputs": [
        {
          "output_type": "stream",
          "name": "stdout",
          "text": [
            "Whar is your name: Luiz Guilherme\n",
            "We'll remember you when you come back, Luiz Guilherme!\n"
          ]
        }
      ]
    },
    {
      "cell_type": "code",
      "source": [
        "#Lendo o arquivo JSON criado\n",
        "import json\n",
        "filename = \"numbers.json\"\n",
        "with open(filename) as file_object:\n",
        "  numbers = json.load(file_object)\n",
        "  print(numbers)\n"
      ],
      "metadata": {
        "colab": {
          "base_uri": "https://localhost:8080/"
        },
        "id": "22yw91pKRb2V",
        "outputId": "d5f5dcea-d5ca-40a3-943e-4a496fa91225"
      },
      "execution_count": null,
      "outputs": [
        {
          "output_type": "stream",
          "name": "stdout",
          "text": [
            "[2, 3, 5, 7, 11, 13]\n"
          ]
        }
      ]
    },
    {
      "cell_type": "code",
      "source": [
        "#Arquivos no formato JSON criação\n",
        "import json\n",
        "numbers = [2, 3 , 5, 7, 11, 13]\n",
        "filename = \"numbers.json\"\n",
        "with open(filename, \"w\") as file_object:\n",
        "  json.dump(numbers, file_object)"
      ],
      "metadata": {
        "id": "lp2AW-cSQbrO"
      },
      "execution_count": null,
      "outputs": []
    },
    {
      "cell_type": "code",
      "source": [
        "#Função para ler o tamhanho de palavras de cada texto\n",
        "def count_words(filename):\n",
        "  try:\n",
        "    with open(filename) as file_object:\n",
        "      contents = file_object.read()\n",
        "  except: pass\n",
        "  else:\n",
        "    words = contents.split()\n",
        "    count_words = len(words)\n",
        "    print(\"The file \" + filename + \" has about \" + str(count_words) + \" words\")\n",
        "\n",
        "filenames = [\"alice.txt\", \"siddahart.txt\", \"little_women.txt\", \"moby_dick.txt\"]\n",
        "for filename in filenames:\n",
        "  count_words(filename)"
      ],
      "metadata": {
        "id": "ipSiyc_x_prU"
      },
      "execution_count": null,
      "outputs": []
    },
    {
      "cell_type": "code",
      "source": [
        "#Análisando Textos\n",
        "filename = \"alice.txt\"\n",
        "try:\n",
        "  with open(filename) as file_object:\n",
        "    contents = file_object.read()\n",
        "except:\n",
        "  print(\"Arquivo não encontrado\")  \n",
        "else:\n",
        "  words = contents.split()\n",
        "  num_words = len(words)\n",
        "  print(\"The file \" + filename + \" has about \" + str(num_words) + \" words\")"
      ],
      "metadata": {
        "colab": {
          "base_uri": "https://localhost:8080/"
        },
        "id": "PbpYlS_C8TLX",
        "outputId": "c12e820b-d781-46b2-f5c7-30ff5e628bed"
      },
      "execution_count": null,
      "outputs": [
        {
          "output_type": "stream",
          "name": "stdout",
          "text": [
            "The file alice.txt has about 29465 words\n"
          ]
        }
      ]
    },
    {
      "cell_type": "code",
      "execution_count": null,
      "metadata": {
        "id": "hP2AzqqhmPBn",
        "colab": {
          "base_uri": "https://localhost:8080/"
        },
        "outputId": "af9000ac-634c-4667-de51-24456eacde85"
      },
      "outputs": [
        {
          "output_type": "stream",
          "name": "stdout",
          "text": [
            "Sorry, the file alice.txt does not exits\n"
          ]
        }
      ],
      "source": [
        "#Tratanto Exeções\n",
        "filename = \"alice.txt\"\n",
        "try:\n",
        "  with open(filename) as file_object: \n",
        "    contents = file_object.read()\n",
        "except: \n",
        "  msg= \"Sorry, the file \" + filename + \" does not exits\"  \n",
        "  print(msg)\n",
        "else:\n",
        "  print(contents)"
      ]
    },
    {
      "cell_type": "code",
      "source": [
        "#Cálculadora simples para tratar o zero\n",
        "while True:\n",
        "  first_number = input(\"\\nFirst number: (click at the 'Q' to exit): \")\n",
        "  if first_number == \"q\":\n",
        "    break\n",
        "  second_number = input(\"Second number: \")\n",
        "  if second_number == \"q\":\n",
        "    break\n",
        "  try:\n",
        "    answer = int(first_number) / int(second_number)\n",
        "  except: \n",
        "    print(\"you can't divide by 0\")\n",
        "  else:\n",
        "    print(answer)"
      ],
      "metadata": {
        "id": "uB-Gy2ywqOuS"
      },
      "execution_count": null,
      "outputs": []
    },
    {
      "cell_type": "code",
      "source": [
        "#Tranto erros com Try except\n",
        "try:\n",
        "  print(5/0) \n",
        "except:\n",
        "   print(\"You can't divide by zero!\")"
      ],
      "metadata": {
        "colab": {
          "base_uri": "https://localhost:8080/"
        },
        "id": "Kf5xV07AmTGi",
        "outputId": "ccd2cfc3-6ebc-41b8-f02f-280d00b9917c"
      },
      "execution_count": null,
      "outputs": [
        {
          "output_type": "stream",
          "name": "stdout",
          "text": [
            "You can't divide by zero!\n"
          ]
        }
      ]
    }
  ]
}